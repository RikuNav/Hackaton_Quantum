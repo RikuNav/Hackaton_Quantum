{
 "cells": [
  {
   "cell_type": "code",
   "execution_count": 1,
   "id": "7af0e4f2-f693-48c1-af9e-106e41a6a7e2",
   "metadata": {
    "tags": []
   },
   "outputs": [],
   "source": [
    "# Importing standard Qiskit libraries\n",
    "from qiskit import QuantumCircuit, transpile\n",
    "from qiskit.tools.jupyter import *\n",
    "from qiskit.visualization import *\n",
    "from ibm_quantum_widgets import *\n",
    "\n",
    "# qiskit-ibmq-provider has been deprecated.\n",
    "# Please see the Migration Guides in https://ibm.biz/provider_migration_guide for more detail.\n",
    "from qiskit_ibm_runtime import QiskitRuntimeService, Sampler, Estimator, Session, Options\n",
    "\n",
    "# Loading your IBM Quantum account(s)\n",
    "service = QiskitRuntimeService(channel=\"ibm_quantum\")\n",
    "\n",
    "# Invoke a primitive. For more details see https://qiskit.org/documentation/partners/qiskit_ibm_runtime/tutorials.html\n",
    "# result = Sampler(\"ibmq_qasm_simulator\").run(circuits).result()"
   ]
  },
  {
   "cell_type": "code",
   "execution_count": 2,
   "id": "3a8d3612-dfea-4d40-9116-82440e58e2ae",
   "metadata": {
    "tags": []
   },
   "outputs": [],
   "source": [
    "# useful additional packages\n",
    "import matplotlib.pyplot as plt\n",
    "import numpy as np\n",
    "import networkx as nx\n",
    "\n",
    "from qiskit_aer import Aer\n",
    "from qiskit.tools.visualization import plot_histogram\n",
    "from qiskit.circuit.library import TwoLocal\n",
    "from qiskit_optimization.applications import Maxcut, Tsp\n",
    "from qiskit.algorithms.minimum_eigensolvers import SamplingVQE, NumPyMinimumEigensolver\n",
    "from qiskit.algorithms.optimizers import SPSA\n",
    "from qiskit.utils import algorithm_globals\n",
    "from qiskit.primitives import Sampler\n",
    "from qiskit_optimization.algorithms import MinimumEigenOptimizer"
   ]
  },
  {
   "cell_type": "code",
   "execution_count": 3,
   "id": "4eaf4412-80c2-4ce8-8476-5988a9c1694d",
   "metadata": {
    "tags": []
   },
   "outputs": [],
   "source": [
    "def draw_graph(G, colors, pos):\n",
    "    default_axes = plt.axes(frameon=True)\n",
    "    nx.draw_networkx(G, node_color=colors, node_size=600, alpha=0.8, ax=default_axes, pos=pos)\n",
    "    edge_labels = nx.get_edge_attributes(G, \"weight\")\n",
    "    nx.draw_networkx_edge_labels(G, pos=pos, edge_labels=edge_labels)\n",
    "    \n",
    "def draw_tsp_solution(G, order, colors, pos):\n",
    "    G2 = nx.DiGraph()\n",
    "    G2.add_nodes_from(G)\n",
    "    n = len(order)\n",
    "    for i in range(n):\n",
    "        j = (i + 1) % n\n",
    "        G2.add_edge(order[i], order[j], weight=G[order[i]][order[j]][\"weight\"])\n",
    "    default_axes = plt.axes(frameon=True)\n",
    "    nx.draw_networkx(\n",
    "        G2, node_color=colors, edge_color=\"b\", node_size=600, alpha=0.8, ax=default_axes, pos=pos\n",
    "    )\n",
    "    edge_labels = nx.get_edge_attributes(G2, \"weight\")\n",
    "    nx.draw_networkx_edge_labels(G2, pos, font_color=\"b\", edge_labels=edge_labels)    "
   ]
  },
  {
   "cell_type": "code",
   "execution_count": 9,
   "id": "a097f503-0b45-4857-a91d-c2af54620cb2",
   "metadata": {
    "tags": []
   },
   "outputs": [
    {
     "name": "stdout",
     "output_type": "stream",
     "text": [
      "distance\n",
      " [[ 0. 43. 40. 29.]\n",
      " [43.  0. 53. 72.]\n",
      " [40. 53.  0. 54.]\n",
      " [29. 72. 54.  0.]]\n"
     ]
    },
    {
     "data": {
      "image/png": "[encoded data removed]",
      "text/plain": [
       "<Figure size 640x480 with 1 Axes>"
      ]
     },
     "metadata": {},
     "output_type": "display_data"
    }
   ],
   "source": [
    "# Generating a graph of 3 nodes\n",
    "n = 4\n",
    "num_qubits = n**2\n",
    "tsp = Tsp.create_random_instance(n, seed=324)\n",
    "adj_matrix = nx.to_numpy_array(tsp.graph)\n",
    "\n",
    "print(\"distance\\n\", adj_matrix)\n",
    "\n",
    "colors = [\"r\" for node in tsp.graph.nodes]\n",
    "pos = [tsp.graph.nodes[node][\"pos\"] for node in tsp.graph.nodes]\n",
    "draw_graph(tsp.graph, colors, pos)"
   ]
  },
  {
   "cell_type": "code",
   "execution_count": 10,
   "id": "adc6035d-829c-4f52-9394-b730e75d300d",
   "metadata": {
    "tags": []
   },
   "outputs": [
    {
     "name": "stdout",
     "output_type": "stream",
     "text": [
      "Problem name: TSP\n",
      "\n",
      "Minimize\n",
      "  43*x_0_0*x_1_1 + 43*x_0_0*x_1_3 + 40*x_0_0*x_2_1 + 40*x_0_0*x_2_3\n",
      "  + 29*x_0_0*x_3_1 + 29*x_0_0*x_3_3 + 43*x_0_1*x_1_0 + 43*x_0_1*x_1_2\n",
      "  + 40*x_0_1*x_2_0 + 40*x_0_1*x_2_2 + 29*x_0_1*x_3_0 + 29*x_0_1*x_3_2\n",
      "  + 43*x_0_2*x_1_1 + 43*x_0_2*x_1_3 + 40*x_0_2*x_2_1 + 40*x_0_2*x_2_3\n",
      "  + 29*x_0_2*x_3_1 + 29*x_0_2*x_3_3 + 43*x_0_3*x_1_0 + 43*x_0_3*x_1_2\n",
      "  + 40*x_0_3*x_2_0 + 40*x_0_3*x_2_2 + 29*x_0_3*x_3_0 + 29*x_0_3*x_3_2\n",
      "  + 53*x_1_0*x_2_1 + 53*x_1_0*x_2_3 + 72*x_1_0*x_3_1 + 72*x_1_0*x_3_3\n",
      "  + 53*x_1_1*x_2_0 + 53*x_1_1*x_2_2 + 72*x_1_1*x_3_0 + 72*x_1_1*x_3_2\n",
      "  + 53*x_1_2*x_2_1 + 53*x_1_2*x_2_3 + 72*x_1_2*x_3_1 + 72*x_1_2*x_3_3\n",
      "  + 53*x_1_3*x_2_0 + 53*x_1_3*x_2_2 + 72*x_1_3*x_3_0 + 72*x_1_3*x_3_2\n",
      "  + 54*x_2_0*x_3_1 + 54*x_2_0*x_3_3 + 54*x_2_1*x_3_0 + 54*x_2_1*x_3_2\n",
      "  + 54*x_2_2*x_3_1 + 54*x_2_2*x_3_3 + 54*x_2_3*x_3_0 + 54*x_2_3*x_3_2\n",
      "\n",
      "Subject to\n",
      "  Linear constraints (8)\n",
      "    x_0_0 + x_0_1 + x_0_2 + x_0_3 == 1  'c0'\n",
      "    x_1_0 + x_1_1 + x_1_2 + x_1_3 == 1  'c1'\n",
      "    x_2_0 + x_2_1 + x_2_2 + x_2_3 == 1  'c2'\n",
      "    x_3_0 + x_3_1 + x_3_2 + x_3_3 == 1  'c3'\n",
      "    x_0_0 + x_1_0 + x_2_0 + x_3_0 == 1  'c4'\n",
      "    x_0_1 + x_1_1 + x_2_1 + x_3_1 == 1  'c5'\n",
      "    x_0_2 + x_1_2 + x_2_2 + x_3_2 == 1  'c6'\n",
      "    x_0_3 + x_1_3 + x_2_3 + x_3_3 == 1  'c7'\n",
      "\n",
      "  Binary variables (16)\n",
      "    x_0_0 x_0_1 x_0_2 x_0_3 x_1_0 x_1_1 x_1_2 x_1_3 x_2_0 x_2_1 x_2_2 x_2_3\n",
      "    x_3_0 x_3_1 x_3_2 x_3_3\n",
      "\n"
     ]
    }
   ],
   "source": [
    "qp = tsp.to_quadratic_program()\n",
    "print(qp.prettyprint())"
   ]
  },
  {
   "cell_type": "code",
   "execution_count": 11,
   "id": "572e86dd-d155-42d1-9a82-8e128e9c7271",
   "metadata": {
    "tags": []
   },
   "outputs": [
    {
     "name": "stdout",
     "output_type": "stream",
     "text": [
      "Offset: 37846.0\n",
      "Ising Hamiltonian:\n",
      "-4714.0 * IIIIIIIIIIIIIIIZ\n",
      "- 4714.0 * IIIIIIIIIIIIIIZI\n",
      "- 4714.0 * IIIIIIIIIIIIIZII\n",
      "- 4714.0 * IIIIIIIIIIIIZIII\n",
      "- 4742.0 * IIIIIIIIIIIZIIII\n",
      "- 4742.0 * IIIIIIIIIIZIIIII\n",
      "- 4742.0 * IIIIIIIIIZIIIIII\n",
      "- 4742.0 * IIIIIIIIZIIIIIII\n",
      "- 4731.5 * IIIIIIIZIIIIIIII\n",
      "- 4731.5 * IIIIIIZIIIIIIIII\n",
      "- 4731.5 * IIIIIZIIIIIIIIII\n",
      "- 4731.5 * IIIIZIIIIIIIIIII\n",
      "- 4735.5 * IIIZIIIIIIIIIIII\n",
      "- 4735.5 * IIZIIIIIIIIIIIII\n",
      "- 4735.5 * IZIIIIIIIIIIIIII\n",
      "- 4735.5 * ZIIIIIIIIIIIIIII\n",
      "+ 1164.5 * IIIIIIIIIIIIIIZZ\n",
      "+ 1164.5 * IIIIIIIIIIIIIZIZ\n",
      "+ 1164.5 * IIIIIIIIIIIIIZZI\n",
      "+ 1164.5 * IIIIIIIIIIIIZIIZ\n",
      "+ 1164.5 * IIIIIIIIIIIIZIZI\n",
      "+ 1164.5 * IIIIIIIIIIIIZZII\n",
      "+ 1164.5 * IIIIIIIIIIIZIIIZ\n",
      "+ 10.75 * IIIIIIIIIIIZIIZI\n",
      "+ 10.75 * IIIIIIIIIIIZZIII\n",
      "+ 10.75 * IIIIIIIIIIZIIIIZ\n",
      "+ 1164.5 * IIIIIIIIIIZIIIZI\n",
      "+ 10.75 * IIIIIIIIIIZIIZII\n",
      "+ 1164.5 * IIIIIIIIIIZZIIII\n",
      "+ 10.75 * IIIIIIIIIZIIIIZI\n",
      "+ 1164.5 * IIIIIIIIIZIIIZII\n",
      "+ 10.75 * IIIIIIIIIZIIZIII\n",
      "+ 1164.5 * IIIIIIIIIZIZIIII\n",
      "+ 1164.5 * IIIIIIIIIZZIIIII\n",
      "+ 10.75 * IIIIIIIIZIIIIIIZ\n",
      "+ 10.75 * IIIIIIIIZIIIIZII\n",
      "+ 1164.5 * IIIIIIIIZIIIZIII\n",
      "+ 1164.5 * IIIIIIIIZIIZIIII\n",
      "+ 1164.5 * IIIIIIIIZIZIIIII\n",
      "+ 1164.5 * IIIIIIIIZZIIIIII\n",
      "+ 1164.5 * IIIIIIIZIIIIIIIZ\n",
      "+ 10.0 * IIIIIIIZIIIIIIZI\n",
      "+ 10.0 * IIIIIIIZIIIIZIII\n",
      "+ 1164.5 * IIIIIIIZIIIZIIII\n",
      "+ 13.25 * IIIIIIIZIIZIIIII\n",
      "+ 13.25 * IIIIIIIZZIIIIIII\n",
      "+ 10.0 * IIIIIIZIIIIIIIIZ\n",
      "+ 1164.5 * IIIIIIZIIIIIIIZI\n",
      "+ 10.0 * IIIIIIZIIIIIIZII\n",
      "+ 13.25 * IIIIIIZIIIIZIIII\n",
      "+ 1164.5 * IIIIIIZIIIZIIIII\n",
      "+ 13.25 * IIIIIIZIIZIIIIII\n",
      "+ 1164.5 * IIIIIIZZIIIIIIII\n",
      "+ 10.0 * IIIIIZIIIIIIIIZI\n",
      "+ 1164.5 * IIIIIZIIIIIIIZII\n",
      "+ 10.0 * IIIIIZIIIIIIZIII\n",
      "+ 13.25 * IIIIIZIIIIZIIIII\n",
      "+ 1164.5 * IIIIIZIIIZIIIIII\n",
      "+ 13.25 * IIIIIZIIZIIIIIII\n",
      "+ 1164.5 * IIIIIZIZIIIIIIII\n",
      "+ 1164.5 * IIIIIZZIIIIIIIII\n",
      "+ 10.0 * IIIIZIIIIIIIIIIZ\n",
      "+ 10.0 * IIIIZIIIIIIIIZII\n",
      "+ 1164.5 * IIIIZIIIIIIIZIII\n",
      "+ 13.25 * IIIIZIIIIIIZIIII\n",
      "+ 13.25 * IIIIZIIIIZIIIIII\n",
      "+ 1164.5 * IIIIZIIIZIIIIIII\n",
      "+ 1164.5 * IIIIZIIZIIIIIIII\n",
      "+ 1164.5 * IIIIZIZIIIIIIIII\n",
      "+ 1164.5 * IIIIZZIIIIIIIIII\n",
      "+ 1164.5 * IIIZIIIIIIIIIIIZ\n",
      "+ 7.25 * IIIZIIIIIIIIIIZI\n",
      "+ 7.25 * IIIZIIIIIIIIZIII\n",
      "+ 1164.5 * IIIZIIIIIIIZIIII\n",
      "+ 18.0 * IIIZIIIIIIZIIIII\n",
      "+ 18.0 * IIIZIIIIZIIIIIII\n",
      "+ 1164.5 * IIIZIIIZIIIIIIII\n",
      "+ 13.5 * IIIZIIZIIIIIIIII\n",
      "+ 13.5 * IIIZZIIIIIIIIIII\n",
      "+ 7.25 * IIZIIIIIIIIIIIIZ\n",
      "+ 1164.5 * IIZIIIIIIIIIIIZI\n",
      "+ 7.25 * IIZIIIIIIIIIIZII\n",
      "+ 18.0 * IIZIIIIIIIIZIIII\n",
      "+ 1164.5 * IIZIIIIIIIZIIIII\n",
      "+ 18.0 * IIZIIIIIIZIIIIII\n",
      "+ 13.5 * IIZIIIIZIIIIIIII\n",
      "+ 1164.5 * IIZIIIZIIIIIIIII\n",
      "+ 13.5 * IIZIIZIIIIIIIIII\n",
      "+ 1164.5 * IIZZIIIIIIIIIIII\n",
      "+ 7.25 * IZIIIIIIIIIIIIZI\n",
      "+ 1164.5 * IZIIIIIIIIIIIZII\n",
      "+ 7.25 * IZIIIIIIIIIIZIII\n",
      "+ 18.0 * IZIIIIIIIIZIIIII\n",
      "+ 1164.5 * IZIIIIIIIZIIIIII\n",
      "+ 18.0 * IZIIIIIIZIIIIIII\n",
      "+ 13.5 * IZIIIIZIIIIIIIII\n",
      "+ 1164.5 * IZIIIZIIIIIIIIII\n",
      "+ 13.5 * IZIIZIIIIIIIIIII\n",
      "+ 1164.5 * IZIZIIIIIIIIIIII\n",
      "+ 1164.5 * IZZIIIIIIIIIIIII\n",
      "+ 7.25 * ZIIIIIIIIIIIIIIZ\n",
      "+ 7.25 * ZIIIIIIIIIIIIZII\n",
      "+ 1164.5 * ZIIIIIIIIIIIZIII\n",
      "+ 18.0 * ZIIIIIIIIIIZIIII\n",
      "+ 18.0 * ZIIIIIIIIZIIIIII\n",
      "+ 1164.5 * ZIIIIIIIZIIIIIII\n",
      "+ 13.5 * ZIIIIIIZIIIIIIII\n",
      "+ 13.5 * ZIIIIZIIIIIIIIII\n",
      "+ 1164.5 * ZIIIZIIIIIIIIIII\n",
      "+ 1164.5 * ZIIZIIIIIIIIIIII\n",
      "+ 1164.5 * ZIZIIIIIIIIIIIII\n",
      "+ 1164.5 * ZZIIIIIIIIIIIIII\n"
     ]
    }
   ],
   "source": [
    "from qiskit_optimization.converters import QuadraticProgramToQubo\n",
    "\n",
    "qp2qubo = QuadraticProgramToQubo()\n",
    "qubo = qp2qubo.convert(qp)\n",
    "qubitOp, offset = qubo.to_ising()\n",
    "print(\"Offset:\", offset)\n",
    "print(\"Ising Hamiltonian:\")\n",
    "print(str(qubitOp))"
   ]
  },
  {
   "cell_type": "code",
   "execution_count": 12,
   "id": "040c6202-6966-4eab-94a7-661c29fff61c",
   "metadata": {
    "tags": []
   },
   "outputs": [
    {
     "name": "stdout",
     "output_type": "stream",
     "text": [
      "objective function value: 179.0\n",
      "variable values: x_0_0=0.0, x_0_1=1.0, x_0_2=0.0, x_0_3=0.0, x_1_0=1.0, x_1_1=0.0, x_1_2=0.0, x_1_3=0.0, x_2_0=0.0, x_2_1=0.0, x_2_2=0.0, x_2_3=1.0, x_3_0=0.0, x_3_1=0.0, x_3_2=1.0, x_3_3=0.0\n",
      "status: SUCCESS\n"
     ]
    }
   ],
   "source": [
    "exact = MinimumEigenOptimizer(NumPyMinimumEigensolver())\n",
    "result = exact.solve(qubo)\n",
    "print(result.prettyprint())"
   ]
  },
  {
   "cell_type": "code",
   "execution_count": 13,
   "id": "439484b8-0da8-4ec3-86cf-7b89681c753a",
   "metadata": {
    "tags": []
   },
   "outputs": [
    {
     "name": "stdout",
     "output_type": "stream",
     "text": [
      "energy: -37667.0\n",
      "tsp objective: 179.0\n",
      "feasible: True\n",
      "solution: [1, 0, 3, 2]\n",
      "solution objective: 179.0\n"
     ]
    },
    {
     "data": {
      "image/png": "[encoded data removed]",
      "text/plain": [
       "<Figure size 640x480 with 1 Axes>"
      ]
     },
     "metadata": {},
     "output_type": "display_data"
    }
   ],
   "source": [
    "# Making the Hamiltonian in its full form and getting the lowest eigenvalue and eigenvector\n",
    "ee = NumPyMinimumEigensolver()\n",
    "result = ee.compute_minimum_eigenvalue(qubitOp)\n",
    "\n",
    "print(\"energy:\", result.eigenvalue.real)\n",
    "print(\"tsp objective:\", result.eigenvalue.real + offset)\n",
    "x = tsp.sample_most_likely(result.eigenstate)\n",
    "print(\"feasible:\", qubo.is_feasible(x))\n",
    "z = tsp.interpret(x)\n",
    "print(\"solution:\", z)\n",
    "print(\"solution objective:\", tsp.tsp_value(z, adj_matrix))\n",
    "draw_tsp_solution(tsp.graph, z, colors, pos)"
   ]
  },
  {
   "cell_type": "code",
   "execution_count": null,
   "id": "8e111ca8-fd22-47de-8b34-d5b59c6cc279",
   "metadata": {},
   "outputs": [],
   "source": []
  }
 ],
 "metadata": {
  "kernelspec": {
   "display_name": "Python 3 (ipykernel)",
   "language": "python",
   "name": "python3"
  },
  "language_info": {
   "codemirror_mode": {
    "name": "ipython",
    "version": 3
   },
   "file_extension": ".py",
   "mimetype": "text/x-python",
   "name": "python",
   "nbconvert_exporter": "python",
   "pygments_lexer": "ipython3",
   "version": "3.10.8"
  },
  "widgets": {
   "application/vnd.jupyter.widget-state+json": {
    "state": {
     "1d92612473fb4b18ac1532de5d4846de": {
      "model_module": "@jupyter-widgets/base",
      "model_module_version": "2.0.0",
      "model_name": "LayoutModel",
      "state": {
       "margin": "0px 0px 10px 0px"
      }
     },
     "374fb40f6e2d42258f4e894979aef9b6": {
      "model_module": "@jupyter-widgets/base",
      "model_module_version": "2.0.0",
      "model_name": "LayoutModel",
      "state": {
       "grid_area": "right",
       "padding": "0px 0px 0px 0px",
       "width": "70px"
      }
     },
     "48281b682df4474e98912400ebeab30e": {
      "model_module": "@jupyter-widgets/base",
      "model_module_version": "2.0.0",
      "model_name": "LayoutModel",
      "state": {
       "width": "70px"
      }
     },
     "578be12cf329459ab86441e3602be3c3": {
      "model_module": "@jupyter-widgets/controls",
      "model_module_version": "2.0.0",
      "model_name": "HTMLModel",
      "state": {
       "layout": "IPY_MODEL_48281b682df4474e98912400ebeab30e",
       "style": "IPY_MODEL_c99c54def27b47bca4d719a7012ff9fe",
       "value": "<h5>Queue</h5>"
      }
     },
     "59961c5840be4dca9c2177a5ab32afd2": {
      "model_module": "@jupyter-widgets/controls",
      "model_module_version": "2.0.0",
      "model_name": "HTMLStyleModel",
      "state": {
       "description_width": "",
       "font_size": null,
       "text_color": null
      }
     },
     "697cdf7f2fb14e6bb9eb2f78ec820e1f": {
      "model_module": "@jupyter-widgets/controls",
      "model_module_version": "2.0.0",
      "model_name": "HBoxModel",
      "state": {
       "children": [
        "IPY_MODEL_c1d0f8e4dd8e4007b68f1f0a2f795944",
        "IPY_MODEL_a453abcc64184c46b392e8a5da3e97ee",
        "IPY_MODEL_a9fa66662d3c439d9597c6f2b650169c",
        "IPY_MODEL_578be12cf329459ab86441e3602be3c3",
        "IPY_MODEL_dc9b94d33dbb4eb6bc64d35036672d6d"
       ],
       "layout": "IPY_MODEL_d20657170db8499c9e1637d95158da47"
      }
     },
     "9a73e3839cd942f1a2fbc74682cfef87": {
      "model_module": "@jupyter-widgets/controls",
      "model_module_version": "2.0.0",
      "model_name": "ButtonStyleModel",
      "state": {
       "font_family": null,
       "font_size": null,
       "font_style": null,
       "font_variant": null,
       "font_weight": null,
       "text_color": null,
       "text_decoration": null
      }
     },
     "a453abcc64184c46b392e8a5da3e97ee": {
      "model_module": "@jupyter-widgets/controls",
      "model_module_version": "2.0.0",
      "model_name": "HTMLModel",
      "state": {
       "layout": "IPY_MODEL_f57a97eaeeec40829e1805a0978a1756",
       "style": "IPY_MODEL_a6237ddbc3b44881ae695fc564f5b0a7",
       "value": "<h5>Backend</h5>"
      }
     },
     "a6237ddbc3b44881ae695fc564f5b0a7": {
      "model_module": "@jupyter-widgets/controls",
      "model_module_version": "2.0.0",
      "model_name": "HTMLStyleModel",
      "state": {
       "description_width": "",
       "font_size": null,
       "text_color": null
      }
     },
     "a9fa66662d3c439d9597c6f2b650169c": {
      "model_module": "@jupyter-widgets/controls",
      "model_module_version": "2.0.0",
      "model_name": "HTMLModel",
      "state": {
       "layout": "IPY_MODEL_c87da28799f943949ddd9c9f480a6ab0",
       "style": "IPY_MODEL_59961c5840be4dca9c2177a5ab32afd2",
       "value": "<h5>Status</h5>"
      }
     },
     "c118bb9bf8ad40a3b5f9ce4dd282ae24": {
      "model_module": "@jupyter-widgets/controls",
      "model_module_version": "2.0.0",
      "model_name": "HTMLStyleModel",
      "state": {
       "description_width": "",
       "font_size": null,
       "text_color": null
      }
     },
     "c1d0f8e4dd8e4007b68f1f0a2f795944": {
      "model_module": "@jupyter-widgets/controls",
      "model_module_version": "2.0.0",
      "model_name": "HTMLModel",
      "state": {
       "layout": "IPY_MODEL_dd4c79a9847f4f359b23e8af9b069a3c",
       "style": "IPY_MODEL_dd6e25e09e694da6bfe03bdbd457bc5c",
       "value": "<h5>Job ID</h5>"
      }
     },
     "c87da28799f943949ddd9c9f480a6ab0": {
      "model_module": "@jupyter-widgets/base",
      "model_module_version": "2.0.0",
      "model_name": "LayoutModel",
      "state": {
       "width": "95px"
      }
     },
     "c99c54def27b47bca4d719a7012ff9fe": {
      "model_module": "@jupyter-widgets/controls",
      "model_module_version": "2.0.0",
      "model_name": "HTMLStyleModel",
      "state": {
       "description_width": "",
       "font_size": null,
       "text_color": null
      }
     },
     "cbba9f4d7aed4aa6ae6c25d152639e89": {
      "model_module": "@jupyter-widgets/base",
      "model_module_version": "2.0.0",
      "model_name": "LayoutModel",
      "state": {}
     },
     "cbf0f89d0e8e4cff9fffd23f997f6bc7": {
      "model_module": "@jupyter-widgets/controls",
      "model_module_version": "2.0.0",
      "model_name": "HTMLStyleModel",
      "state": {
       "description_width": "",
       "font_size": null,
       "text_color": null
      }
     },
     "ce1be870a6a048d79808ad31ca597d9c": {
      "model_module": "@jupyter-widgets/controls",
      "model_module_version": "2.0.0",
      "model_name": "HTMLModel",
      "state": {
       "layout": "IPY_MODEL_1d92612473fb4b18ac1532de5d4846de",
       "style": "IPY_MODEL_cbf0f89d0e8e4cff9fffd23f997f6bc7",
       "value": "<p style='font-family: IBM Plex Sans, Arial, Helvetica, sans-serif; font-size: 20px; font-weight: medium;'>Circuit Properties</p>"
      }
     },
     "d1d49a68834a4024a9118ed500011df3": {
      "model_module": "@jupyter-widgets/controls",
      "model_module_version": "2.0.0",
      "model_name": "ButtonModel",
      "state": {
       "button_style": "primary",
       "description": "Clear",
       "layout": "IPY_MODEL_374fb40f6e2d42258f4e894979aef9b6",
       "style": "IPY_MODEL_9a73e3839cd942f1a2fbc74682cfef87",
       "tooltip": null
      }
     },
     "d20657170db8499c9e1637d95158da47": {
      "model_module": "@jupyter-widgets/base",
      "model_module_version": "2.0.0",
      "model_name": "LayoutModel",
      "state": {
       "margin": "0px 0px 0px 37px",
       "width": "600px"
      }
     },
     "d49b646abc4f41bdbaab879bc41ac1d7": {
      "model_module": "@jupyter-widgets/controls",
      "model_module_version": "2.0.0",
      "model_name": "GridBoxModel",
      "state": {
       "children": [
        "IPY_MODEL_d1d49a68834a4024a9118ed500011df3"
       ],
       "layout": "IPY_MODEL_e7cf25b5fa824b56958c0166583e46d8"
      }
     },
     "dc9b94d33dbb4eb6bc64d35036672d6d": {
      "model_module": "@jupyter-widgets/controls",
      "model_module_version": "2.0.0",
      "model_name": "HTMLModel",
      "state": {
       "layout": "IPY_MODEL_cbba9f4d7aed4aa6ae6c25d152639e89",
       "style": "IPY_MODEL_c118bb9bf8ad40a3b5f9ce4dd282ae24",
       "value": "<h5>Message</h5>"
      }
     },
     "dd4c79a9847f4f359b23e8af9b069a3c": {
      "model_module": "@jupyter-widgets/base",
      "model_module_version": "2.0.0",
      "model_name": "LayoutModel",
      "state": {
       "width": "190px"
      }
     },
     "dd6e25e09e694da6bfe03bdbd457bc5c": {
      "model_module": "@jupyter-widgets/controls",
      "model_module_version": "2.0.0",
      "model_name": "HTMLStyleModel",
      "state": {
       "description_width": "",
       "font_size": null,
       "text_color": null
      }
     },
     "e7cf25b5fa824b56958c0166583e46d8": {
      "model_module": "@jupyter-widgets/base",
      "model_module_version": "2.0.0",
      "model_name": "LayoutModel",
      "state": {
       "grid_template_areas": "\n                                       \". . . . right \"\n                                        ",
       "grid_template_columns": "20% 20% 20% 20% 20%",
       "width": "100%"
      }
     },
     "f57a97eaeeec40829e1805a0978a1756": {
      "model_module": "@jupyter-widgets/base",
      "model_module_version": "2.0.0",
      "model_name": "LayoutModel",
      "state": {
       "width": "145px"
      }
     }
    },
    "version_major": 2,
    "version_minor": 0
   }
  }
 },
 "nbformat": 4,
 "nbformat_minor": 5
}
